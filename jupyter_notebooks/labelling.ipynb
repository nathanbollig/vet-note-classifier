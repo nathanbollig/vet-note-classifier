{
 "cells": [
  {
   "cell_type": "code",
   "execution_count": null,
   "metadata": {},
   "outputs": [],
   "source": [
    "from IPython.display import Markdown\n",
    "\n",
    "import numpy as np\n",
    "import pandas as pd\n",
    "import re\n",
    "from bs4 import BeautifulSoup\n",
    "\n",
    "from pprint import pprint"
   ]
  },
  {
   "cell_type": "markdown",
   "metadata": {},
   "source": [
    "Takes processed dataset as input, it also contains raw HTML.\n",
    "\n",
    "Prints the first record of sampled patient"
   ]
  },
  {
   "cell_type": "code",
   "execution_count": null,
   "metadata": {},
   "outputs": [],
   "source": [
    "data = pd.read_csv('../../data/data_processed/data_processed.csv')\n",
    "data.index = data.record_number.values\n",
    "\n",
    "def view_note(record_number = None,print_extracted = False):\n",
    "    # sampling unique mr\n",
    "    sample_mr = np.random.choice(data.mr.values)\n",
    "    \n",
    "    #getting the first record for one patient\n",
    "    i = data.index.values[data.mr == sample_mr][0]\n",
    "    if record_number:\n",
    "        i = record_number\n",
    "    print(f'Record Number # {i}')\n",
    "    \n",
    "    if print_extracted:\n",
    "        print(\"***\"*20)\n",
    "        print(\"Hisroty ::\")\n",
    "        print(data.History.loc[i])\n",
    "        print(\"\\n\")\n",
    "        print(\"***\"*20)\n",
    "        print(\"Physical Exam ::\")\n",
    "        print(data.Physical_Exam.loc[i])\n",
    "        print(\"\\n\")\n",
    "        print(\"***\"*20)\n",
    "        print(\"Diagnoses ::\")\n",
    "        print(data.Diagnoses.loc[i])\n",
    "        print(\"\\n\")\n",
    "        print(\"***\"*20)\n",
    "        print(\"Problems ::\")\n",
    "        print(data.Problems.loc[i])\n",
    "        print(\"\\n\")\n",
    "        print(\"***\"*20)\n",
    "        print(\"Diagnostic_Test ::\")\n",
    "        print(data.Diagnostic_Test.loc[i])\n",
    "        print(\"\\n\")\n",
    "        print(\"***\"*20)\n",
    "        print(\"Cleaned Text ::\")\n",
    "        print(data.Cleaned_Text.loc[i])\n",
    "        print(\"\\n\")\n",
    "        print(f'Record Number # {i}')\n",
    "        \n",
    "        \n",
    "    return Markdown(f'{data.comment_text[i]}')"
   ]
  },
  {
   "cell_type": "code",
   "execution_count": null,
   "metadata": {},
   "outputs": [],
   "source": [
    "view_note()"
   ]
  }
 ],
 "metadata": {
  "kernelspec": {
   "display_name": "Python [conda env:general] *",
   "language": "python",
   "name": "conda-env-general-py"
  },
  "language_info": {
   "codemirror_mode": {
    "name": "ipython",
    "version": 3
   },
   "file_extension": ".py",
   "mimetype": "text/x-python",
   "name": "python",
   "nbconvert_exporter": "python",
   "pygments_lexer": "ipython3",
   "version": "3.8.2"
  }
 },
 "nbformat": 4,
 "nbformat_minor": 4
}
