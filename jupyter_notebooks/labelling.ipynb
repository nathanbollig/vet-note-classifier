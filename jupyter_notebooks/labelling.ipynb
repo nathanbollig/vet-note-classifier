{
 "cells": [
  {
   "cell_type": "code",
   "execution_count": null,
   "metadata": {},
   "outputs": [],
   "source": [
    "from IPython.display import Markdown\n",
    "\n",
    "import numpy as np\n",
    "import pandas as pd\n",
    "import re\n",
    "from bs4 import BeautifulSoup\n",
    "\n",
    "from pprint import pprint"
   ]
  },
  {
   "cell_type": "markdown",
   "metadata": {},
   "source": [
    "\n",
    "\n",
    "**Experimenting automatic issue creation for data cleaning.**\n",
    "\n",
    "If this doesn't work for you or you are not interested please comment it.\n",
    "\n",
    "If you want to use the feature,\n",
    " - Install Ipython widgets:\n",
    "         conda install -c conda-forge ipywidgets\n",
    "         \n",
    " - please set your USERNAME and PASSWORD."
   ]
  },
  {
   "cell_type": "code",
   "execution_count": null,
   "metadata": {},
   "outputs": [],
   "source": [
    "conda install -c conda-forge ipywidgets"
   ]
  },
  {
   "cell_type": "code",
   "execution_count": null,
   "metadata": {},
   "outputs": [],
   "source": [
    "import ipywidgets as widgets\n",
    "from IPython.display import display\n",
    "#from ipywidgets import Button, Layout, Textarea, HBox, VBox\n",
    "\n",
    "import os\n",
    "import json\n",
    "import requests\n",
    "\n",
    "# repository to add issue to)\n",
    "USERNAME = ''\n",
    "PASSWORD = ''\n",
    "\n",
    "REPO_OWNER = 'nathanbollig'\n",
    "REPO_NAME = 'vet-note-classifier'\n",
    "\n",
    "#code from https://gist.github.com/JeffPaine/3145490#gistcomment-2226141\n",
    "def make_github_issue(title, body=None, labels=None):\n",
    "    '''Create an issue on github.com using the given parameters.'''\n",
    "    \n",
    "    if USERNAME=='' or PASSWORD == '':\n",
    "        print('Error : Please set your USERNAME and PASSWORD...')\n",
    "        return None\n",
    "    # Our url to create issues via POST\n",
    "    url = 'https://api.github.com/repos/%s/%s/issues' % (REPO_OWNER, REPO_NAME)\n",
    "    # Create an authenticated session to create the issue\n",
    "    session = requests.Session()\n",
    "    session.auth = (USERNAME, PASSWORD)\n",
    "    # Create our issue\n",
    "    issue = {'title': title,\n",
    "             'body': body,\n",
    "             'labels': labels}\n",
    "    # Add the issue to our repository\n",
    "    r = session.post(url, json.dumps(issue))\n",
    "    if r.status_code == 201:\n",
    "        print ('Successfully created Issue {0:s}'.format(title))\n",
    "    else:\n",
    "        print ('Could not create Issue {0:s}'.format(title))\n",
    "        print ('Response:', r.content)"
   ]
  },
  {
   "cell_type": "code",
   "execution_count": null,
   "metadata": {},
   "outputs": [],
   "source": [
    "data = pd.read_csv('../../data/data_processed/data_processed.csv')\n",
    "data.index = data.record_number.values"
   ]
  },
  {
   "cell_type": "markdown",
   "metadata": {},
   "source": [
    "Takes processed dataset as input, it also contains raw HTML.\n",
    "\n",
    "Prints the first record of sampled patient"
   ]
  },
  {
   "cell_type": "code",
   "execution_count": null,
   "metadata": {},
   "outputs": [],
   "source": [
    "def view_note(record_number = None,print_extracted = False, report = True):\n",
    "    # sampling unique mr\n",
    "    sample_mr = np.random.choice(data.mr.values)\n",
    "    \n",
    "    #getting the first record for one patient\n",
    "    i = data.index.values[data.mr == sample_mr][0]\n",
    "    if record_number:\n",
    "        i = record_number\n",
    "    print(f'Record Number # {i}')\n",
    "    \n",
    "    if print_extracted:\n",
    "        print(\"***\"*20)\n",
    "        print(\"Hisroty ::\")\n",
    "        print(data.History.loc[i])\n",
    "        print(\"\\n\")\n",
    "        print(\"***\"*20)\n",
    "        print(\"Physical Exam ::\")\n",
    "        print(data.Physical_Exam.loc[i])\n",
    "        print(\"\\n\")\n",
    "        print(\"***\"*20)\n",
    "        print(\"Diagnoses ::\")\n",
    "        print(data.Diagnoses.loc[i])\n",
    "        print(\"\\n\")\n",
    "        print(\"***\"*20)\n",
    "        print(\"Diagnostic_Test ::\")\n",
    "        print(data.Diagnostic_Test.loc[i])\n",
    "        print(\"\\n\")\n",
    "        print(\"***\"*20)\n",
    "        print(\"Cleaned Text ::\")\n",
    "        print(data.Cleaned_Text.loc[i])\n",
    "        print(\"\\n\")\n",
    "        print(f'Record Number # {i}')\n",
    "        \n",
    "        if report:\n",
    "            button = widgets.Button(description=\"Report Issue\")\n",
    "            button.style.button_color = 'lightgreen'\n",
    "            output = widgets.Output()\n",
    "            l = widgets.Layout(flex='0 1 auto', height='100px', min_height='100px', width='auto')\n",
    "            \n",
    "            w = widgets.Textarea(\n",
    "                value=f'Record Number # {i} ::', #don't remove '::'\n",
    "                placeholder='',\n",
    "                description='Issue:',\n",
    "                disabled=False,\n",
    "                layout=l\n",
    "            )\n",
    "            display(w)\n",
    "            display(button, output)\n",
    "\n",
    "            def on_button_clicked(b):\n",
    "                print(b)\n",
    "                with output:\n",
    "                    issue = w.value\n",
    "                    if issue and len(issue.strip()) > 10:\n",
    "                        title = issue.split(\"::\")[0]\n",
    "                        make_github_issue(\"data cleaning \" + title,\n",
    "                                          issue.split(\"::\")[1],\n",
    "                                          ['data cleaning'])\n",
    "\n",
    "\n",
    "            button.on_click(on_button_clicked)\n",
    "\n",
    "    return Markdown(f'{data.comment_text[i]}')"
   ]
  },
  {
   "cell_type": "code",
   "execution_count": null,
   "metadata": {
    "scrolled": false
   },
   "outputs": [],
   "source": [
    "view_note(print_extracted=True)"
   ]
  }
 ],
 "metadata": {
  "kernelspec": {
   "display_name": "Python 3",
   "language": "python",
   "name": "python3"
  },
  "language_info": {
   "codemirror_mode": {
    "name": "ipython",
    "version": 3
   },
   "file_extension": ".py",
   "mimetype": "text/x-python",
   "name": "python",
   "nbconvert_exporter": "python",
   "pygments_lexer": "ipython3",
   "version": "3.6.7"
  }
 },
 "nbformat": 4,
 "nbformat_minor": 4
}
