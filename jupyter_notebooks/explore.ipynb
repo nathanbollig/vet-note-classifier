{
 "cells": [
  {
   "cell_type": "code",
   "execution_count": null,
   "metadata": {},
   "outputs": [],
   "source": [
    "from IPython.display import Markdown\n",
    "\n",
    "import numpy as np\n",
    "import pandas as pd\n",
    "import re\n",
    "from bs4 import BeautifulSoup\n",
    "\n",
    "from pprint import pprint"
   ]
  },
  {
   "cell_type": "code",
   "execution_count": null,
   "metadata": {},
   "outputs": [],
   "source": [
    "data = pd.read_csv('../../data/data_raw/data.csv')\n",
    "print(data.shape)\n",
    "data.head()"
   ]
  },
  {
   "cell_type": "code",
   "execution_count": null,
   "metadata": {},
   "outputs": [],
   "source": [
    "data.species = data.species.str.strip()\n",
    "data.species.value_counts().plot(kind='bar')"
   ]
  },
  {
   "cell_type": "markdown",
   "metadata": {},
   "source": [
    "### <font color='red'> Adding column record_number for consistancy use </font>\n",
    "We will use 'record_number' of labelling"
   ]
  },
  {
   "cell_type": "code",
   "execution_count": null,
   "metadata": {},
   "outputs": [],
   "source": [
    "cols = data.columns\n",
    "cols = cols.insert(0,'record_number')\n",
    "data['record_number'] = data.index\n",
    "data = data.loc[:,cols]\n",
    "data.head()"
   ]
  },
  {
   "cell_type": "markdown",
   "metadata": {},
   "source": [
    "### filtering Out Non-Canine"
   ]
  },
  {
   "cell_type": "code",
   "execution_count": null,
   "metadata": {},
   "outputs": [],
   "source": [
    "data_canine = data.loc[data.species == 'Canine']\n",
    "data_canine.shape"
   ]
  },
  {
   "cell_type": "markdown",
   "metadata": {},
   "source": [
    "### View a Note"
   ]
  },
  {
   "cell_type": "code",
   "execution_count": null,
   "metadata": {},
   "outputs": [],
   "source": [
    "def view_note(record_number = None):\n",
    "    i = np.random.choice(data_canine.record_number.values)\n",
    "    if record_number:\n",
    "        i = record_number\n",
    "    print(f'Record Number # {i}')\n",
    "    return Markdown(f'{data_canine.comment_text[i]}')\n",
    "\n",
    "#view_note()"
   ]
  },
  {
   "cell_type": "markdown",
   "metadata": {},
   "source": [
    "-----\n",
    "-----"
   ]
  },
  {
   "cell_type": "code",
   "execution_count": null,
   "metadata": {},
   "outputs": [],
   "source": [
    "#Keywords relevent for particular category\n",
    "search_words = {\n",
    "    'diagnoses':['suspect','diagnosis','diagnose'],\n",
    "    'problems':['comment','comments','problem', 'problems','questions', 'concerns'],\n",
    "    'diagnostic_test':['test', 'diagnostic','procedure'],\n",
    "    'physical_exam':['exam'],\n",
    "    'history':['history']\n",
    "}\n",
    "\n",
    "# Lines needs to be removed from the text\n",
    "removed_strings = [\n",
    "    '[x if abnormal]',\n",
    "    'please continue the same medication regimine for her future doctor visits to the hospital.',\n",
    "    '<b>please contact us through phone 608-263-7600, or email at <b>primarycare@vetmed.wisc.edu</b> for any updates, questions, or concerns.</b>',\n",
    "    'remember to either: <ul> <li>click the add rx button to insert medications dispensed today or <li>click the cpy comment button to insert the \\\n",
    "    current medication form for on-going medications</li></ul></font><!--  --></td></tr></tbody></table>',\n",
    "    '[expand on above diagnoses as needed. do not simply reiterate. may include: summary of client discussion, differentials, and patient care.\\\n",
    "    *include alternative/future options for testing or treatment based on patient response.]',\n",
    "    '<b>if you have a local veterinarian who referred you to uw veterinary care, we will send him/her a report for this visit.</b>',\n",
    "    'please contact us via phone'\n",
    "]"
   ]
  },
  {
   "cell_type": "code",
   "execution_count": null,
   "metadata": {},
   "outputs": [],
   "source": [
    "def find_features(cleaned_text,titles,keywords):\n",
    "    lines = cleaned_text.split(\"\\n\")\n",
    "    result_text = []\n",
    "    for i,l in enumerate(lines):\n",
    "        for keyword in keywords:\n",
    "#             if keyword =='diagnoses':\n",
    "#                 print(l)\n",
    "            if l.find(keyword) > -1 and (l in titles or keyword in titles):\n",
    "                next_lines = ''\n",
    "                if i+1 < len(lines):\n",
    "                    for j in range(1,len(lines)-i):\n",
    "                        next_lines = lines[i+j]\n",
    "                        if next_lines in titles:\n",
    "                            break\n",
    "                        else:\n",
    "                            result_text.append(next_lines)\n",
    "                \n",
    "    return \"\".join(np.unique(result_text))\n",
    "\n",
    "def process_random(idx = None, verbose = False):\n",
    "    \n",
    "    i = np.random.choice(data_canine.record_number.values)\n",
    "    if idx != None:\n",
    "        i = idx\n",
    "        \n",
    "    print(f'record_number # {i}','\\n')\n",
    "    comment_html_o = data_canine.comment_text[i]\n",
    "    \n",
    "    # If there is no note, resample till find a note\n",
    "    if comment_html_o is np.nan:\n",
    "        process_random(verbose = verbose)\n",
    "    \n",
    "    if verbose: print(comment_html_o)\n",
    "    comment_html = comment_html_o.lower()\n",
    "    comment_html = comment_html.replace(\"<b>\",\"<b>\\n\")\n",
    "    comment_html = comment_html.replace(\"</b>\",\"\\n</b>\")\n",
    "    comment_html = comment_html.replace(\"dr.\",\"dr\")\n",
    "    comment_html = re.sub('<div>\\[\\s\\]\\s.*?</div>','',comment_html)\n",
    "    \n",
    "    for r_string in removed_strings:\n",
    "        comment_html = comment_html.replace(r_string,'')\n",
    "        #remove the entire line\n",
    "        #TODO\n",
    "        \n",
    "    soup = BeautifulSoup(comment_html)\n",
    "    \n",
    "    titles = soup.findAll('b')\n",
    "    titles = [t.text.strip().lower() for t in titles]\n",
    "\n",
    "    \n",
    "    soup_text = soup.text\n",
    "    cleaned_text = re.sub('\\[.*?\\]', '', soup_text)\n",
    "    cleaned_text = re.sub('\\\\xa0', '', cleaned_text)\n",
    "    cleaned_text = re.sub('[ ]{2,}', '\\n', cleaned_text)\n",
    "    cleaned_text = cleaned_text.lower()\n",
    "    \n",
    "    if verbose:\n",
    "        print('titles')\n",
    "        print(titles,'\\n')\n",
    "    \n",
    "    print('\\n')\n",
    "    print('History <Extracted>::')\n",
    "    print(find_features(cleaned_text,titles,search_words['history']))\n",
    "    \n",
    "    print('\\n')\n",
    "    print('Physical Exam <Extracted>::')\n",
    "    print(find_features(cleaned_text,titles,search_words['physical_exam']))\n",
    "    \n",
    "    print('\\n')\n",
    "    print('diagnoses <Extracted>::')\n",
    "    print(find_features(cleaned_text,titles,search_words['diagnoses']))\n",
    "    \n",
    "    print('\\n')\n",
    "    print('Problems <Extracted>::')\n",
    "    print(find_features(cleaned_text,titles,search_words['problems']))\n",
    "    \n",
    "    print('\\n')\n",
    "    print('Diagnostic Test <Extracted>::')\n",
    "    print(find_features(cleaned_text,titles,search_words['diagnostic_test']))\n",
    "    \n",
    "    if verbose:\n",
    "        #print(soup.prettify())\n",
    "        print('\\n')\n",
    "        print(\"All Text Cleaned ::\")\n",
    "        print(cleaned_text)\n",
    "        #It will print the original note\n",
    "        print('\\n')\n",
    "        print(f'record_number # {i}','\\n')\n",
    "        return Markdown(f'{comment_html_o}')"
   ]
  },
  {
   "cell_type": "code",
   "execution_count": null,
   "metadata": {},
   "outputs": [],
   "source": [
    "process_random(idx = 0,verbose=False)"
   ]
  },
  {
   "cell_type": "markdown",
   "metadata": {},
   "source": [
    "------\n",
    "## Rest of the code\n",
    "\n",
    "Single script for data cleaning\n",
    "\n",
    "------"
   ]
  },
  {
   "cell_type": "code",
   "execution_count": null,
   "metadata": {},
   "outputs": [],
   "source": [
    "import numpy as np\n",
    "import pandas as pd\n",
    "import re\n",
    "from bs4 import BeautifulSoup\n",
    "\n",
    "search_words = {\n",
    "    'diagnoses':['suspect','diagnosis','diagnose'],\n",
    "    'problems':['comment','comments','problem'],\n",
    "    'diagnostic_test':['test', 'diagnostic'],\n",
    "    'physical_exam':['exam'],\n",
    "    'history':['history']\n",
    "}\n",
    "\n",
    "# Lines needs to be removed from the text\n",
    "removed_strings = [\n",
    "    '[x if abnormal]',\n",
    "    'please continue the same medication regimine for her future doctor visits to the hospital.',\n",
    "    '<b>please contact us through phone 608-263-7600, or email at <b>primarycare@vetmed.wisc.edu</b> for any updates, questions, or concerns.</b>',\n",
    "    'remember to either: <ul> <li>click the add rx button to insert medications dispensed today or <li>click the cpy comment button to insert the \\\n",
    "    current medication form for on-going medications</li></ul></font><!--  --></td></tr></tbody></table>',\n",
    "    '[expand on above diagnoses as needed. do not simply reiterate. may include: summary of client discussion, differentials, and patient care.\\\n",
    "    *include alternative/future options for testing or treatment based on patient response.]',\n",
    "    '<b>if you have a local veterinarian who referred you to uw veterinary care, we will send him/her a report for this visit.</b>',\n",
    "    'please contact us via phone'\n",
    "]\n",
    "\n",
    "\n",
    "def process_data(train_path, output_path):\n",
    "    \n",
    "    #reading raw data\n",
    "    data = pd.read_csv(train_path)\n",
    "    data.species = data.species.str.strip()\n",
    "    \n",
    "    cols = data.columns\n",
    "    cols = cols.insert(0,'record_number')\n",
    "    data['record_number'] = data.index\n",
    "    data = data.loc[:,cols]\n",
    "    \n",
    "    data_canine = data.loc[data.species == 'Canine']\n",
    "    new_cols = [\"Cleaned_Text\", \"History\", \"Physical_Exam\", \"Diagnoses\", \"Problems\", \"Diagnostic_Test\"]\n",
    "    data_canine[new_cols] = data_canine.apply(lambda x: process_row(x.comment_text), \n",
    "                                              axis = 1, result_type=\"expand\")\n",
    "    data_canine.to_csv(output_path, index = False)\n",
    "    \n",
    "def find_features_row(cleaned_text,titles,keywords):\n",
    "    lines = cleaned_text.split(\"\\n\")\n",
    "    result_text = []\n",
    "    for i,l in enumerate(lines):\n",
    "        for keyword in keywords:\n",
    "            if l.find(keyword) > -1 and (l in titles or keyword in titles):\n",
    "                next_lines = ''\n",
    "                if i+1 < len(lines):\n",
    "                    for j in range(1,len(lines)-i):\n",
    "                        next_lines = lines[i+j]\n",
    "                        if next_lines in titles:\n",
    "                            break\n",
    "                        else:\n",
    "                            result_text.append(next_lines)\n",
    "                \n",
    "    return \"\".join(np.unique(result_text))\n",
    "\n",
    "def process_row(comment_html_o):\n",
    "    \n",
    "    if comment_html_o is np.nan:\n",
    "        return ('','','','','','')\n",
    "    \n",
    "    #if verbose: print(comment_html)\n",
    "    comment_html = comment_html_o.lower()\n",
    "    comment_html = comment_html.replace(\"<b>\",\"<b>\\n\")\n",
    "    comment_html = comment_html.replace(\"</b>\",\"\\n</b>\")\n",
    "    comment_html = comment_html.replace(\"dr.\",\"dr\")\n",
    "    comment_html = re.sub('<div>\\[\\s\\]\\s.*?</div>','',comment_html)\n",
    "    \n",
    "    for r_string in removed_strings:\n",
    "        comment_html = comment_html.replace(r_string,'')\n",
    "        #remove the entire line\n",
    "        #TODO\n",
    "        \n",
    "    soup = BeautifulSoup(comment_html)\n",
    "    \n",
    "    titles = soup.findAll('b')\n",
    "    titles = [t.text.strip().lower() for t in titles]\n",
    "\n",
    "    \n",
    "    soup_text = soup.text\n",
    "    cleaned_text = re.sub('\\[.*?\\]', '', soup_text)\n",
    "    cleaned_text = re.sub('\\\\xa0', '', cleaned_text)\n",
    "    cleaned_text = re.sub('[ ]{2,}', '\\n', cleaned_text)\n",
    "    cleaned_text = cleaned_text.lower()\n",
    "    \n",
    "    history = find_features_row(cleaned_text,titles,search_words['history'])\n",
    "    physical_exam = find_features_row(cleaned_text,titles,search_words['physical_exam'])\n",
    "    diagnoses = find_features_row(cleaned_text,titles,search_words['diagnoses'])\n",
    "    problems = find_features_row(cleaned_text,titles,search_words['problems'])\n",
    "    diagnostic_test = find_features_row(cleaned_text,titles,search_words['diagnostic_test'])\n",
    "    \n",
    "    return (cleaned_text,history, physical_exam, diagnoses, problems, diagnostic_test)\n",
    "    \n",
    "    \n",
    "if __name__ == '__main__':\n",
    "    process_data('../../data/data_raw/data.csv',\n",
    "                '../../data/data_processed/data_processed.csv')"
   ]
  },
  {
   "cell_type": "code",
   "execution_count": null,
   "metadata": {},
   "outputs": [],
   "source": [
    "out_data = pd.read_csv('../../data/data_processed/data_processed.csv')\n",
    "out_data.shape"
   ]
  },
  {
   "cell_type": "code",
   "execution_count": null,
   "metadata": {},
   "outputs": [],
   "source": [
    "out_data.tail()"
   ]
  }
 ],
 "metadata": {
  "kernelspec": {
   "display_name": "Python [conda env:general] *",
   "language": "python",
   "name": "conda-env-general-py"
  },
  "language_info": {
   "codemirror_mode": {
    "name": "ipython",
    "version": 3
   },
   "file_extension": ".py",
   "mimetype": "text/x-python",
   "name": "python",
   "nbconvert_exporter": "python",
   "pygments_lexer": "ipython3",
   "version": "3.8.2"
  }
 },
 "nbformat": 4,
 "nbformat_minor": 4
}
