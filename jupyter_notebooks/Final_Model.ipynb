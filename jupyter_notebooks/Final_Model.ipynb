{
 "cells": [
  {
   "cell_type": "code",
   "execution_count": 1,
   "metadata": {},
   "outputs": [],
   "source": [
    "import numpy as np\n",
    "import pandas as pd"
   ]
  },
  {
   "cell_type": "code",
   "execution_count": 2,
   "metadata": {},
   "outputs": [],
   "source": [
    "DATA_FILE = '../../data/label_model_output/df_train_filtered.csv'\n",
    "df = pd.read_csv(DATA_FILE)"
   ]
  },
  {
   "cell_type": "code",
   "execution_count": 3,
   "metadata": {},
   "outputs": [],
   "source": [
    "comments = df.Cleaned_Text.values\n",
    "y = np.round(df.prob)"
   ]
  },
  {
   "cell_type": "code",
   "execution_count": 5,
   "metadata": {},
   "outputs": [
    {
     "data": {
      "text/plain": [
       "<matplotlib.axes._subplots.AxesSubplot at 0x11bb44750>"
      ]
     },
     "execution_count": 5,
     "metadata": {},
     "output_type": "execute_result"
    },
    {
     "data": {
      "image/png": "[encoded data removed]",
      "text/plain": [
       "<Figure size 432x288 with 1 Axes>"
      ]
     },
     "metadata": {
      "needs_background": "light"
     },
     "output_type": "display_data"
    }
   ],
   "source": [
    "y.value_counts().plot(kind='bar')"
   ]
  },
  {
   "cell_type": "code",
   "execution_count": 4,
   "metadata": {},
   "outputs": [],
   "source": [
    "from sklearn.ensemble import RandomForestClassifier\n",
    "from sklearn.svm import SVC\n",
    "from sklearn.linear_model import LogisticRegression\n",
    "\n",
    "from sklearn.model_selection import StratifiedKFold, GridSearchCV\n",
    "from sklearn.model_selection import train_test_split\n",
    "\n",
    "\n",
    "from sklearn.feature_extraction.text import TfidfVectorizer\n",
    "from sklearn.feature_extraction.text import ENGLISH_STOP_WORDS\n",
    "\n",
    "from sklearn.metrics import f1_score, make_scorer"
   ]
  },
  {
   "cell_type": "code",
   "execution_count": 13,
   "metadata": {},
   "outputs": [],
   "source": [
    "random_state = 100\n",
    "scorer = make_scorer(f1_score)\n",
    "#preprocess_params = {}\n",
    "\n",
    "models = {'RandomForestClassifier': RandomForestClassifier(),\n",
    "         'LogisticRegression': LogisticRegression(),\n",
    "         #'SVC' : SVC()\n",
    "         }\n",
    "\n",
    "model_params = {'RandomForestClassifier':\n",
    "              {'n_estimators':[10],\n",
    "               'max_depth': [None, 15, 20, 25, 30],\n",
    "              'min_samples_split' : [2, 3],\n",
    "              'min_samples_leaf': [1, 3, 5, 7],\n",
    "              'min_weight_fraction_leaf': [0],\n",
    "              'max_features': ['auto'],\n",
    "              'n_jobs': [-1],\n",
    "              'random_state':[random_state],\n",
    "              'class_weight':['balanced', None]\n",
    "              },\n",
    "            'LogisticRegression':{\n",
    "                'penalty':['l1','l2'],\n",
    "                'C':[1.e-1, 1, 1.e1]\n",
    "            },\n",
    "            'SVC':\n",
    "              {'C':[1.e-05, 1.e-03, 1.e-01],\n",
    "              'kernel':['rbf', 'linear'],\n",
    "              'gamma' : ['auto', 1.e-01],\n",
    "              'shrinking':[True, False],\n",
    "              'class_weight':['balanced'],\n",
    "              'random_state':[random_state]},\n",
    "         }"
   ]
  },
  {
   "cell_type": "code",
   "execution_count": 6,
   "metadata": {},
   "outputs": [],
   "source": [
    "tfidf = TfidfVectorizer(list(comments), strip_accents='unicode', decode_error= 'strict',\n",
    "                        stop_words = 'english',\n",
    "                       ngram_range=(1,1))\n",
    "\n",
    "X = tfidf.fit_transform(comments)"
   ]
  },
  {
   "cell_type": "code",
   "execution_count": 7,
   "metadata": {},
   "outputs": [],
   "source": [
    "def base_model(X):\n",
    "    '''Returns all 1s'''\n",
    "    return np.ones(X.shape[0])"
   ]
  },
  {
   "cell_type": "code",
   "execution_count": 15,
   "metadata": {},
   "outputs": [
    {
     "name": "stdout",
     "output_type": "stream",
     "text": [
      "******************** RandomForestClassifier ********************\n",
      "BEST ESTIMATOR\n",
      "RandomForestClassifier(bootstrap=True, class_weight=None, criterion='gini',\n",
      "                       max_depth=25, max_features='auto', max_leaf_nodes=None,\n",
      "                       min_impurity_decrease=0.0, min_impurity_split=None,\n",
      "                       min_samples_leaf=5, min_samples_split=2,\n",
      "                       min_weight_fraction_leaf=0, n_estimators=10, n_jobs=-1,\n",
      "                       oob_score=False, random_state=100, verbose=0,\n",
      "                       warm_start=False)\n",
      "BEST SCORE\n",
      "0.8542496649249196\n",
      "BEST_PARAMS\n",
      "{'class_weight': None, 'max_depth': 25, 'max_features': 'auto', 'min_samples_leaf': 5, 'min_samples_split': 2, 'min_weight_fraction_leaf': 0, 'n_estimators': 10, 'n_jobs': -1, 'random_state': 100}\n",
      "Base f1 : 0.690096798212956\n",
      "Train f1 : 0.9051504781960165\n",
      "Test f1 : 0.8475442043222003\n",
      "******************** LogisticRegression ********************\n"
     ]
    },
    {
     "name": "stderr",
     "output_type": "stream",
     "text": [
      "/Users/chitrasen/opt/anaconda3/envs/dataclass/lib/python3.7/site-packages/sklearn/linear_model/logistic.py:432: FutureWarning: Default solver will be changed to 'lbfgs' in 0.22. Specify a solver to silence this warning.\n",
      "  FutureWarning)\n"
     ]
    },
    {
     "name": "stdout",
     "output_type": "stream",
     "text": [
      "BEST ESTIMATOR\n",
      "LogisticRegression(C=1, class_weight=None, dual=False, fit_intercept=True,\n",
      "                   intercept_scaling=1, l1_ratio=None, max_iter=100,\n",
      "                   multi_class='warn', n_jobs=None, penalty='l1',\n",
      "                   random_state=None, solver='warn', tol=0.0001, verbose=0,\n",
      "                   warm_start=False)\n",
      "BEST SCORE\n",
      "0.9029325843380789\n",
      "BEST_PARAMS\n",
      "{'C': 1, 'penalty': 'l1'}\n",
      "Base f1 : 0.690096798212956\n",
      "Train f1 : 0.9158121964382083\n",
      "Test f1 : 0.9102773246329527\n"
     ]
    }
   ],
   "source": [
    "#kfold = StratifiedKFold(n_splits=5, shuffle=False, random_state=100)\n",
    "X_train, X_test, y_train, y_test = train_test_split(X, y, train_size = 0.7, random_state = 21)\n",
    "   \n",
    "for model_name, model in models.items():\n",
    "    print(\"**\"*10, model_name, \"**\"*10)\n",
    "    final_model = GridSearchCV(model, model_params[model_name],scoring= scorer, n_jobs= -1, cv = 5, verbose= 0)\n",
    "    final_model.fit(X_train, y_train)\n",
    "    \n",
    "    pred_train = final_model.predict(X_train)\n",
    "    pred_test = final_model.predict(X_test)\n",
    "    pred_base = base_model(X_test)\n",
    "    \n",
    "    print('BEST ESTIMATOR')\n",
    "    print(final_model.best_estimator_)\n",
    "    print('BEST SCORE')\n",
    "    print(final_model.best_score_)\n",
    "    print('BEST_PARAMS')\n",
    "    print(final_model.best_params_)\n",
    "    \n",
    "    print('Base f1 :', f1_score(y_test, pred_base))\n",
    "    print('Train f1 :', f1_score(y_train, pred_train))\n",
    "    print('Test f1 :', f1_score(y_test, pred_test))\n",
    "    "
   ]
  }
 ],
 "metadata": {
  "kernelspec": {
   "display_name": "Python [conda env:dataclass] *",
   "language": "python",
   "name": "conda-env-dataclass-py"
  },
  "language_info": {
   "codemirror_mode": {
    "name": "ipython",
    "version": 3
   },
   "file_extension": ".py",
   "mimetype": "text/x-python",
   "name": "python",
   "nbconvert_exporter": "python",
   "pygments_lexer": "ipython3",
   "version": "3.7.6"
  }
 },
 "nbformat": 4,
 "nbformat_minor": 4
}
