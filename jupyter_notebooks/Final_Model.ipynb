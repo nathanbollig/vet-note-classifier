{
 "cells": [
  {
   "cell_type": "code",
   "execution_count": 1,
   "metadata": {},
   "outputs": [],
   "source": [
    "import numpy as np\n",
    "import pandas as pd\n",
    "\n",
    "from sklearn.ensemble import RandomForestClassifier\n",
    "from sklearn.svm import SVC\n",
    "from sklearn.linear_model import LogisticRegression\n",
    "\n",
    "from sklearn.model_selection import StratifiedKFold, GridSearchCV\n",
    "from sklearn.model_selection import train_test_split\n",
    "\n",
    "\n",
    "from sklearn.feature_extraction.text import TfidfVectorizer\n",
    "from sklearn.feature_extraction.text import ENGLISH_STOP_WORDS\n",
    "\n",
    "from sklearn.metrics import f1_score, make_scorer\n",
    "from sklearn.metrics import average_precision_score\n",
    "\n",
    "from sklearn.metrics import precision_recall_curve\n",
    "from sklearn.metrics import plot_precision_recall_curve\n",
    "import matplotlib.pyplot as plt\n"
   ]
  },
  {
   "cell_type": "code",
   "execution_count": 2,
   "metadata": {},
   "outputs": [],
   "source": [
    "random_state = 100\n",
    "scorer = make_scorer(f1_score)\n",
    "#preprocess_params = {}\n",
    "\n",
    "models = {'RandomForestClassifier': RandomForestClassifier(),\n",
    "         'LogisticRegression': LogisticRegression(),\n",
    "         #'SVC' : SVC()\n",
    "         }\n",
    "\n",
    "model_params = {'RandomForestClassifier':\n",
    "              {'n_estimators':[10],\n",
    "               'max_depth': [None, 15, 20, 25, 30],\n",
    "              'min_samples_split' : [2, 3],\n",
    "              'min_samples_leaf': [1, 3, 5, 7],\n",
    "              'min_weight_fraction_leaf': [0],\n",
    "              'max_features': ['auto'],\n",
    "              'n_jobs': [-1],\n",
    "              'random_state':[random_state],\n",
    "              'class_weight':['balanced', None]\n",
    "              },\n",
    "            'LogisticRegression':{\n",
    "                'penalty':['l1','l2'],\n",
    "                'C':[1.e-1, 1, 1.e1]\n",
    "            },\n",
    "            'SVC':\n",
    "              {'C':[1.e-05, 1.e-03, 1.e-01],\n",
    "              'kernel':['rbf', 'linear'],\n",
    "              'gamma' : ['auto', 1.e-01],\n",
    "              'shrinking':[True, False],\n",
    "              'class_weight':['balanced'],\n",
    "              'random_state':[random_state]},\n",
    "         }"
   ]
  },
  {
   "cell_type": "code",
   "execution_count": 3,
   "metadata": {},
   "outputs": [],
   "source": [
    "#loading data\n",
    "def load_train():\n",
    "    DATA_FILE_TRAIN = '../../data/label_model_output/df_train_filtered.csv'\n",
    "    df = pd.read_csv(DATA_FILE_TRAIN)\n",
    "    comments = df.Cleaned_Text.values\n",
    "    y = np.round(df.prob)\n",
    "    \n",
    "    return comments, y\n",
    "\n",
    "def load_test():\n",
    "    DATA_FILE_TEST = '../../data/label_model_output/df_test.csv'\n",
    "    df = pd.read_csv(DATA_FILE_TEST)\n",
    "    comments = df.Cleaned_Text.values\n",
    "    y = df.human_label.values\n",
    "    \n",
    "    return comments, y\n",
    "\n",
    "def base_model(X):\n",
    "    '''Returns all 1s'''\n",
    "    return np.ones(X.shape[0])"
   ]
  },
  {
   "cell_type": "code",
   "execution_count": 4,
   "metadata": {},
   "outputs": [
    {
     "name": "stdout",
     "output_type": "stream",
     "text": [
      "******************** RandomForestClassifier ********************\n",
      "BEST ESTIMATOR\n",
      "RandomForestClassifier(bootstrap=True, ccp_alpha=0.0, class_weight=None,\n",
      "                       criterion='gini', max_depth=20, max_features='auto',\n",
      "                       max_leaf_nodes=None, max_samples=None,\n",
      "                       min_impurity_decrease=0.0, min_impurity_split=None,\n",
      "                       min_samples_leaf=5, min_samples_split=2,\n",
      "                       min_weight_fraction_leaf=0, n_estimators=10, n_jobs=-1,\n",
      "                       oob_score=False, random_state=100, verbose=0,\n",
      "                       warm_start=False)\n",
      "BEST SCORE\n",
      "0.85008150403646\n",
      "BEST_PARAMS\n",
      "{'class_weight': None, 'max_depth': 20, 'max_features': 'auto', 'min_samples_leaf': 5, 'min_samples_split': 2, 'min_weight_fraction_leaf': 0, 'n_estimators': 10, 'n_jobs': -1, 'random_state': 100}\n",
      "Base f1 : 0.20209059233449478\n",
      "Train f1 : 0.8962907827812927\n",
      "Test f1 : 0.27411167512690354\n",
      "******************** LogisticRegression ********************\n",
      "BEST ESTIMATOR\n",
      "LogisticRegression(C=1, class_weight=None, dual=False, fit_intercept=True,\n",
      "                   intercept_scaling=1, l1_ratio=None, max_iter=100,\n",
      "                   multi_class='auto', n_jobs=None, penalty='l2',\n",
      "                   random_state=None, solver='lbfgs', tol=0.0001, verbose=0,\n",
      "                   warm_start=False)\n",
      "BEST SCORE\n",
      "0.8555253593924457\n",
      "BEST_PARAMS\n",
      "{'C': 1, 'penalty': 'l2'}\n",
      "Base f1 : 0.20209059233449478\n",
      "Train f1 : 0.9097763578274761\n",
      "Test f1 : 0.32183908045977005\n"
     ]
    },
    {
     "name": "stderr",
     "output_type": "stream",
     "text": [
      "findfont: Font family ['RandomForestClassifier'] not found. Falling back to DejaVu Sans.\n"
     ]
    },
    {
     "data": {
      "image/png": "[encoded data removed]",
      "text/plain": [
       "<Figure size 432x288 with 1 Axes>"
      ]
     },
     "metadata": {
      "needs_background": "light"
     },
     "output_type": "display_data"
    },
    {
     "name": "stderr",
     "output_type": "stream",
     "text": [
      "findfont: Font family ['LogisticRegression'] not found. Falling back to DejaVu Sans.\n"
     ]
    },
    {
     "data": {
      "image/png": "[encoded data removed]",
      "text/plain": [
       "<Figure size 432x288 with 1 Axes>"
      ]
     },
     "metadata": {
      "needs_background": "light"
     },
     "output_type": "display_data"
    }
   ],
   "source": [
    "def main():\n",
    "    comments_train, y_train = load_train()\n",
    "    comments_test, y_test = load_test()\n",
    "    \n",
    "    tfidf = TfidfVectorizer(list(comments_train), strip_accents='unicode', decode_error= 'strict',\n",
    "                        stop_words = 'english',\n",
    "                       ngram_range=(1,1))\n",
    "\n",
    "    X_train = tfidf.fit_transform(comments_train)\n",
    "    X_test = tfidf.transform(comments_test)\n",
    "    \n",
    "    for model_name, model in models.items():\n",
    "        print(\"**\"*10, model_name, \"**\"*10)\n",
    "        final_model = GridSearchCV(model, model_params[model_name],scoring= scorer, n_jobs= -1, cv = 5, verbose= 0)\n",
    "        final_model.fit(X_train, y_train)\n",
    "\n",
    "        pred_train = final_model.predict(X_train)\n",
    "        pred_test = final_model.predict(X_test)\n",
    "        pred_base = base_model(X_test)\n",
    "\n",
    "        print('BEST ESTIMATOR')\n",
    "        print(final_model.best_estimator_)\n",
    "        print('BEST SCORE')\n",
    "        print(final_model.best_score_)\n",
    "        print('BEST_PARAMS')\n",
    "        print(final_model.best_params_)\n",
    "\n",
    "        print('Base f1 :', f1_score(y_test, pred_base))\n",
    "        print('Train f1 :', f1_score(y_train, pred_train))\n",
    "        print('Test f1 :', f1_score(y_test, pred_test))\n",
    "        \n",
    "        avg_precision_test = average_precision_score(y_test, pred_test)\n",
    "        \n",
    "        disp = plot_precision_recall_curve(final_model, X_test, y_test)\n",
    "        disp.ax_.set_title('Precision-Recall curve'\n",
    "                   'AP={0:0.2f}'.format(avg_precision_test), name = model_name)\n",
    "        \n",
    "        \n",
    "if __name__ == \"__main__\":\n",
    "    main()"
   ]
  },
  {
   "cell_type": "code",
   "execution_count": null,
   "metadata": {},
   "outputs": [],
   "source": []
  }
 ],
 "metadata": {
  "kernelspec": {
   "display_name": "Python [conda env:dataclass] *",
   "language": "python",
   "name": "conda-env-dataclass-py"
  },
  "language_info": {
   "codemirror_mode": {
    "name": "ipython",
    "version": 3
   },
   "file_extension": ".py",
   "mimetype": "text/x-python",
   "name": "python",
   "nbconvert_exporter": "python",
   "pygments_lexer": "ipython3",
   "version": "3.7.6"
  }
 },
 "nbformat": 4,
 "nbformat_minor": 4
}
